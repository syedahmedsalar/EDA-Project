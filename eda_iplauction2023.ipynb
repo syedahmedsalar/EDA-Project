{
 "cells": [
  {
   "cell_type": "markdown",
   "id": "e3920189-95df-4ef9-9e4f-282162d9688a",
   "metadata": {},
   "source": [
    "# EDA on IPL AUCTION 2023 dataset"
   ]
  },
  {
   "cell_type": "code",
   "execution_count": 1,
   "id": "9f7e8a0b-671c-4f14-9e7b-e0defe62ac4c",
   "metadata": {},
   "outputs": [],
   "source": [
    "#importing libraries relavent for data processing, CSV file I/O, linear algebra, plotting and more\n",
    "import pandas as pd\n",
    "import numpy as np\n",
    "import seaborn as sns\n",
    "import matplotlib.pyplot as plt"
   ]
  },
  {
   "cell_type": "markdown",
   "id": "1ec3e60d-7320-4d58-bc48-0c5976f261c5",
   "metadata": {},
   "source": [
    "# exploring/learning data"
   ]
  },
  {
   "cell_type": "code",
   "execution_count": 2,
   "id": "73aca8cd-7e28-4ab5-ba63-27cf776cb262",
   "metadata": {},
   "outputs": [
    {
     "data": {
      "text/html": [
       "<div>\n",
       "<style scoped>\n",
       "    .dataframe tbody tr th:only-of-type {\n",
       "        vertical-align: middle;\n",
       "    }\n",
       "\n",
       "    .dataframe tbody tr th {\n",
       "        vertical-align: top;\n",
       "    }\n",
       "\n",
       "    .dataframe thead th {\n",
       "        text-align: right;\n",
       "    }\n",
       "</style>\n",
       "<table border=\"1\" class=\"dataframe\">\n",
       "  <thead>\n",
       "    <tr style=\"text-align: right;\">\n",
       "      <th></th>\n",
       "      <th>name</th>\n",
       "      <th>player style</th>\n",
       "      <th>nationality</th>\n",
       "      <th>base price (in lacs)</th>\n",
       "      <th>final price (in lacs)</th>\n",
       "      <th>franchise</th>\n",
       "      <th>status</th>\n",
       "    </tr>\n",
       "  </thead>\n",
       "  <tbody>\n",
       "    <tr>\n",
       "      <th>0</th>\n",
       "      <td>Harshit Rana</td>\n",
       "      <td>Bowler</td>\n",
       "      <td>India</td>\n",
       "      <td>NaN</td>\n",
       "      <td>20.0</td>\n",
       "      <td>KKR</td>\n",
       "      <td>RETAINED</td>\n",
       "    </tr>\n",
       "    <tr>\n",
       "      <th>1</th>\n",
       "      <td>Ekant Sen</td>\n",
       "      <td>Batter</td>\n",
       "      <td>India</td>\n",
       "      <td>20.0</td>\n",
       "      <td>NaN</td>\n",
       "      <td>NaN</td>\n",
       "      <td>UNSOLD</td>\n",
       "    </tr>\n",
       "    <tr>\n",
       "      <th>2</th>\n",
       "      <td>Wayne Parnell</td>\n",
       "      <td>Allrounder</td>\n",
       "      <td>South Africa</td>\n",
       "      <td>75.0</td>\n",
       "      <td>NaN</td>\n",
       "      <td>NaN</td>\n",
       "      <td>UNSOLD</td>\n",
       "    </tr>\n",
       "    <tr>\n",
       "      <th>3</th>\n",
       "      <td>Shakib Al Hasan</td>\n",
       "      <td>Allrounder</td>\n",
       "      <td>Bangladesh</td>\n",
       "      <td>150.0</td>\n",
       "      <td>150.0</td>\n",
       "      <td>KKR</td>\n",
       "      <td>SOLD</td>\n",
       "    </tr>\n",
       "    <tr>\n",
       "      <th>4</th>\n",
       "      <td>Joe Root</td>\n",
       "      <td>Batter</td>\n",
       "      <td>England</td>\n",
       "      <td>100.0</td>\n",
       "      <td>100.0</td>\n",
       "      <td>RR</td>\n",
       "      <td>SOLD</td>\n",
       "    </tr>\n",
       "  </tbody>\n",
       "</table>\n",
       "</div>"
      ],
      "text/plain": [
       "              name player style   nationality  base price (in lacs)  \\\n",
       "0     Harshit Rana       Bowler         India                   NaN   \n",
       "1        Ekant Sen       Batter         India                  20.0   \n",
       "2    Wayne Parnell   Allrounder  South Africa                  75.0   \n",
       "3  Shakib Al Hasan   Allrounder    Bangladesh                 150.0   \n",
       "4         Joe Root       Batter       England                 100.0   \n",
       "\n",
       "   final price (in lacs) franchise    status  \n",
       "0                   20.0       KKR  RETAINED  \n",
       "1                    NaN       NaN    UNSOLD  \n",
       "2                    NaN       NaN    UNSOLD  \n",
       "3                  150.0       KKR      SOLD  \n",
       "4                  100.0        RR      SOLD  "
      ]
     },
     "execution_count": 2,
     "metadata": {},
     "output_type": "execute_result"
    }
   ],
   "source": [
    "df = pd.read_csv('iplauction2023.csv')\n",
    "df.head()"
   ]
  },
  {
   "cell_type": "code",
   "execution_count": 55,
   "id": "a4ddd6c8-6cc1-4dc2-90f4-d40b3bdaf2fc",
   "metadata": {},
   "outputs": [
    {
     "data": {
      "text/html": [
       "<div>\n",
       "<style scoped>\n",
       "    .dataframe tbody tr th:only-of-type {\n",
       "        vertical-align: middle;\n",
       "    }\n",
       "\n",
       "    .dataframe tbody tr th {\n",
       "        vertical-align: top;\n",
       "    }\n",
       "\n",
       "    .dataframe thead th {\n",
       "        text-align: right;\n",
       "    }\n",
       "</style>\n",
       "<table border=\"1\" class=\"dataframe\">\n",
       "  <thead>\n",
       "    <tr style=\"text-align: right;\">\n",
       "      <th></th>\n",
       "      <th>name</th>\n",
       "      <th>player style</th>\n",
       "      <th>nationality</th>\n",
       "      <th>base price (in lacs)</th>\n",
       "      <th>final price (in lacs)</th>\n",
       "      <th>franchise</th>\n",
       "      <th>status</th>\n",
       "    </tr>\n",
       "  </thead>\n",
       "  <tbody>\n",
       "    <tr>\n",
       "      <th>304</th>\n",
       "      <td>MS Dhoni</td>\n",
       "      <td>WK-Batter</td>\n",
       "      <td>India</td>\n",
       "      <td>NaN</td>\n",
       "      <td>1200.0</td>\n",
       "      <td>CSK</td>\n",
       "      <td>RETAINED</td>\n",
       "    </tr>\n",
       "    <tr>\n",
       "      <th>305</th>\n",
       "      <td>Moeen Ali</td>\n",
       "      <td>Allrounder</td>\n",
       "      <td>England</td>\n",
       "      <td>NaN</td>\n",
       "      <td>800.0</td>\n",
       "      <td>CSK</td>\n",
       "      <td>RETAINED</td>\n",
       "    </tr>\n",
       "    <tr>\n",
       "      <th>306</th>\n",
       "      <td>Ruturaj Gaikwad</td>\n",
       "      <td>Batter</td>\n",
       "      <td>India</td>\n",
       "      <td>NaN</td>\n",
       "      <td>600.0</td>\n",
       "      <td>CSK</td>\n",
       "      <td>RETAINED</td>\n",
       "    </tr>\n",
       "    <tr>\n",
       "      <th>307</th>\n",
       "      <td>Rishabh Pant</td>\n",
       "      <td>WK-Batter</td>\n",
       "      <td>India</td>\n",
       "      <td>NaN</td>\n",
       "      <td>1600.0</td>\n",
       "      <td>DC</td>\n",
       "      <td>RETAINED</td>\n",
       "    </tr>\n",
       "    <tr>\n",
       "      <th>308</th>\n",
       "      <td>Axar Patel</td>\n",
       "      <td>Allrounder</td>\n",
       "      <td>India</td>\n",
       "      <td>NaN</td>\n",
       "      <td>900.0</td>\n",
       "      <td>DC</td>\n",
       "      <td>RETAINED</td>\n",
       "    </tr>\n",
       "  </tbody>\n",
       "</table>\n",
       "</div>"
      ],
      "text/plain": [
       "                name player style nationality  base price (in lacs)  \\\n",
       "304         MS Dhoni    WK-Batter       India                   NaN   \n",
       "305        Moeen Ali   Allrounder     England                   NaN   \n",
       "306  Ruturaj Gaikwad       Batter       India                   NaN   \n",
       "307     Rishabh Pant    WK-Batter       India                   NaN   \n",
       "308       Axar Patel   Allrounder       India                   NaN   \n",
       "\n",
       "     final price (in lacs) franchise    status  \n",
       "304                 1200.0       CSK  RETAINED  \n",
       "305                  800.0       CSK  RETAINED  \n",
       "306                  600.0       CSK  RETAINED  \n",
       "307                 1600.0        DC  RETAINED  \n",
       "308                  900.0        DC  RETAINED  "
      ]
     },
     "execution_count": 55,
     "metadata": {},
     "output_type": "execute_result"
    }
   ],
   "source": [
    "df.tail()"
   ]
  },
  {
   "cell_type": "code",
   "execution_count": 56,
   "id": "e8c4cb71-5f13-480c-87fb-37faaf3f2639",
   "metadata": {},
   "outputs": [
    {
     "data": {
      "text/html": [
       "<div>\n",
       "<style scoped>\n",
       "    .dataframe tbody tr th:only-of-type {\n",
       "        vertical-align: middle;\n",
       "    }\n",
       "\n",
       "    .dataframe tbody tr th {\n",
       "        vertical-align: top;\n",
       "    }\n",
       "\n",
       "    .dataframe thead th {\n",
       "        text-align: right;\n",
       "    }\n",
       "</style>\n",
       "<table border=\"1\" class=\"dataframe\">\n",
       "  <thead>\n",
       "    <tr style=\"text-align: right;\">\n",
       "      <th></th>\n",
       "      <th>name</th>\n",
       "      <th>player style</th>\n",
       "      <th>nationality</th>\n",
       "      <th>base price (in lacs)</th>\n",
       "      <th>final price (in lacs)</th>\n",
       "      <th>franchise</th>\n",
       "      <th>status</th>\n",
       "    </tr>\n",
       "  </thead>\n",
       "  <tbody>\n",
       "    <tr>\n",
       "      <th>count</th>\n",
       "      <td>309</td>\n",
       "      <td>309</td>\n",
       "      <td>309</td>\n",
       "      <td>151.000000</td>\n",
       "      <td>238.000000</td>\n",
       "      <td>238</td>\n",
       "      <td>309</td>\n",
       "    </tr>\n",
       "    <tr>\n",
       "      <th>unique</th>\n",
       "      <td>309</td>\n",
       "      <td>4</td>\n",
       "      <td>14</td>\n",
       "      <td>NaN</td>\n",
       "      <td>NaN</td>\n",
       "      <td>10</td>\n",
       "      <td>3</td>\n",
       "    </tr>\n",
       "    <tr>\n",
       "      <th>top</th>\n",
       "      <td>Axar Patel</td>\n",
       "      <td>Bowler</td>\n",
       "      <td>India</td>\n",
       "      <td>NaN</td>\n",
       "      <td>NaN</td>\n",
       "      <td>RR</td>\n",
       "      <td>RETAINED</td>\n",
       "    </tr>\n",
       "    <tr>\n",
       "      <th>freq</th>\n",
       "      <td>1</td>\n",
       "      <td>111</td>\n",
       "      <td>201</td>\n",
       "      <td>NaN</td>\n",
       "      <td>NaN</td>\n",
       "      <td>25</td>\n",
       "      <td>158</td>\n",
       "    </tr>\n",
       "    <tr>\n",
       "      <th>mean</th>\n",
       "      <td>NaN</td>\n",
       "      <td>NaN</td>\n",
       "      <td>NaN</td>\n",
       "      <td>59.205298</td>\n",
       "      <td>368.067227</td>\n",
       "      <td>NaN</td>\n",
       "      <td>NaN</td>\n",
       "    </tr>\n",
       "    <tr>\n",
       "      <th>std</th>\n",
       "      <td>NaN</td>\n",
       "      <td>NaN</td>\n",
       "      <td>NaN</td>\n",
       "      <td>59.688337</td>\n",
       "      <td>449.070117</td>\n",
       "      <td>NaN</td>\n",
       "      <td>NaN</td>\n",
       "    </tr>\n",
       "    <tr>\n",
       "      <th>min</th>\n",
       "      <td>NaN</td>\n",
       "      <td>NaN</td>\n",
       "      <td>NaN</td>\n",
       "      <td>20.000000</td>\n",
       "      <td>20.000000</td>\n",
       "      <td>NaN</td>\n",
       "      <td>NaN</td>\n",
       "    </tr>\n",
       "    <tr>\n",
       "      <th>25%</th>\n",
       "      <td>NaN</td>\n",
       "      <td>NaN</td>\n",
       "      <td>NaN</td>\n",
       "      <td>20.000000</td>\n",
       "      <td>21.250000</td>\n",
       "      <td>NaN</td>\n",
       "      <td>NaN</td>\n",
       "    </tr>\n",
       "    <tr>\n",
       "      <th>50%</th>\n",
       "      <td>NaN</td>\n",
       "      <td>NaN</td>\n",
       "      <td>NaN</td>\n",
       "      <td>20.000000</td>\n",
       "      <td>150.000000</td>\n",
       "      <td>NaN</td>\n",
       "      <td>NaN</td>\n",
       "    </tr>\n",
       "    <tr>\n",
       "      <th>75%</th>\n",
       "      <td>NaN</td>\n",
       "      <td>NaN</td>\n",
       "      <td>NaN</td>\n",
       "      <td>75.000000</td>\n",
       "      <td>625.000000</td>\n",
       "      <td>NaN</td>\n",
       "      <td>NaN</td>\n",
       "    </tr>\n",
       "    <tr>\n",
       "      <th>max</th>\n",
       "      <td>NaN</td>\n",
       "      <td>NaN</td>\n",
       "      <td>NaN</td>\n",
       "      <td>200.000000</td>\n",
       "      <td>1850.000000</td>\n",
       "      <td>NaN</td>\n",
       "      <td>NaN</td>\n",
       "    </tr>\n",
       "  </tbody>\n",
       "</table>\n",
       "</div>"
      ],
      "text/plain": [
       "              name player style nationality  base price (in lacs)  \\\n",
       "count          309          309         309            151.000000   \n",
       "unique         309            4          14                   NaN   \n",
       "top     Axar Patel       Bowler       India                   NaN   \n",
       "freq             1          111         201                   NaN   \n",
       "mean           NaN          NaN         NaN             59.205298   \n",
       "std            NaN          NaN         NaN             59.688337   \n",
       "min            NaN          NaN         NaN             20.000000   \n",
       "25%            NaN          NaN         NaN             20.000000   \n",
       "50%            NaN          NaN         NaN             20.000000   \n",
       "75%            NaN          NaN         NaN             75.000000   \n",
       "max            NaN          NaN         NaN            200.000000   \n",
       "\n",
       "        final price (in lacs) franchise    status  \n",
       "count              238.000000       238       309  \n",
       "unique                    NaN        10         3  \n",
       "top                       NaN        RR  RETAINED  \n",
       "freq                      NaN        25       158  \n",
       "mean               368.067227       NaN       NaN  \n",
       "std                449.070117       NaN       NaN  \n",
       "min                 20.000000       NaN       NaN  \n",
       "25%                 21.250000       NaN       NaN  \n",
       "50%                150.000000       NaN       NaN  \n",
       "75%                625.000000       NaN       NaN  \n",
       "max               1850.000000       NaN       NaN  "
      ]
     },
     "execution_count": 56,
     "metadata": {},
     "output_type": "execute_result"
    }
   ],
   "source": [
    "df.describe(include='all')"
   ]
  },
  {
   "cell_type": "code",
   "execution_count": 57,
   "id": "b26968c9-3fdd-44ba-9387-c162b078d835",
   "metadata": {},
   "outputs": [
    {
     "data": {
      "text/plain": [
       "(309, 7)"
      ]
     },
     "execution_count": 57,
     "metadata": {},
     "output_type": "execute_result"
    }
   ],
   "source": [
    "df.shape"
   ]
  },
  {
   "cell_type": "code",
   "execution_count": 58,
   "id": "57305d98-9f56-4193-bbb4-a9e3d3f2ea7e",
   "metadata": {},
   "outputs": [
    {
     "data": {
      "text/plain": [
       "name                     309\n",
       "player style               4\n",
       "nationality               14\n",
       "base price (in lacs)       8\n",
       "final price (in lacs)     67\n",
       "franchise                 10\n",
       "status                     3\n",
       "dtype: int64"
      ]
     },
     "execution_count": 58,
     "metadata": {},
     "output_type": "execute_result"
    }
   ],
   "source": [
    "df.nunique()"
   ]
  },
  {
   "cell_type": "code",
   "execution_count": 59,
   "id": "2b160c91-85dd-49d0-a423-4ef15ccea747",
   "metadata": {},
   "outputs": [
    {
     "data": {
      "text/plain": [
       "Index(['name', 'player style', 'nationality', 'base price (in lacs)',\n",
       "       'final price (in lacs)', 'franchise', 'status'],\n",
       "      dtype='object')"
      ]
     },
     "execution_count": 59,
     "metadata": {},
     "output_type": "execute_result"
    }
   ],
   "source": [
    "df.columns"
   ]
  },
  {
   "cell_type": "code",
   "execution_count": 60,
   "id": "33bcbb9d-cba3-4ed9-99cb-3d8d01c47bc1",
   "metadata": {},
   "outputs": [
    {
     "data": {
      "text/plain": [
       "name                      object\n",
       "player style              object\n",
       "nationality               object\n",
       "base price (in lacs)     float64\n",
       "final price (in lacs)    float64\n",
       "franchise                 object\n",
       "status                    object\n",
       "dtype: object"
      ]
     },
     "execution_count": 60,
     "metadata": {},
     "output_type": "execute_result"
    }
   ],
   "source": [
    "df.dtypes"
   ]
  },
  {
   "cell_type": "code",
   "execution_count": 61,
   "id": "e958671d-fd37-415a-ae83-d2fd964eb2ac",
   "metadata": {},
   "outputs": [
    {
     "data": {
      "text/html": [
       "<div>\n",
       "<style scoped>\n",
       "    .dataframe tbody tr th:only-of-type {\n",
       "        vertical-align: middle;\n",
       "    }\n",
       "\n",
       "    .dataframe tbody tr th {\n",
       "        vertical-align: top;\n",
       "    }\n",
       "\n",
       "    .dataframe thead th {\n",
       "        text-align: right;\n",
       "    }\n",
       "</style>\n",
       "<table border=\"1\" class=\"dataframe\">\n",
       "  <thead>\n",
       "    <tr style=\"text-align: right;\">\n",
       "      <th></th>\n",
       "      <th>name</th>\n",
       "      <th>player style</th>\n",
       "      <th>nationality</th>\n",
       "      <th>base price (in lacs)</th>\n",
       "      <th>final price (in lacs)</th>\n",
       "      <th>franchise</th>\n",
       "      <th>status</th>\n",
       "    </tr>\n",
       "  </thead>\n",
       "  <tbody>\n",
       "    <tr>\n",
       "      <th>254</th>\n",
       "      <td>Krishnappa Gowtham</td>\n",
       "      <td>Allrounder</td>\n",
       "      <td>India</td>\n",
       "      <td>NaN</td>\n",
       "      <td>90.0</td>\n",
       "      <td>LSG</td>\n",
       "      <td>RETAINED</td>\n",
       "    </tr>\n",
       "    <tr>\n",
       "      <th>40</th>\n",
       "      <td>Kulwant Khejroliya</td>\n",
       "      <td>Bowler</td>\n",
       "      <td>India</td>\n",
       "      <td>20.0</td>\n",
       "      <td>20.0</td>\n",
       "      <td>KKR</td>\n",
       "      <td>SOLD</td>\n",
       "    </tr>\n",
       "    <tr>\n",
       "      <th>259</th>\n",
       "      <td>Baltej Singh</td>\n",
       "      <td>Allrounder</td>\n",
       "      <td>India</td>\n",
       "      <td>NaN</td>\n",
       "      <td>20.0</td>\n",
       "      <td>PBKS</td>\n",
       "      <td>RETAINED</td>\n",
       "    </tr>\n",
       "    <tr>\n",
       "      <th>81</th>\n",
       "      <td>Blessing Muzarabani</td>\n",
       "      <td>Bowler</td>\n",
       "      <td>Zimbabwe</td>\n",
       "      <td>50.0</td>\n",
       "      <td>NaN</td>\n",
       "      <td>NaN</td>\n",
       "      <td>UNSOLD</td>\n",
       "    </tr>\n",
       "    <tr>\n",
       "      <th>37</th>\n",
       "      <td>Jitender Pal</td>\n",
       "      <td>Allrounder</td>\n",
       "      <td>India</td>\n",
       "      <td>20.0</td>\n",
       "      <td>NaN</td>\n",
       "      <td>NaN</td>\n",
       "      <td>UNSOLD</td>\n",
       "    </tr>\n",
       "    <tr>\n",
       "      <th>98</th>\n",
       "      <td>Himanshu Sharma</td>\n",
       "      <td>Bowler</td>\n",
       "      <td>India</td>\n",
       "      <td>20.0</td>\n",
       "      <td>20.0</td>\n",
       "      <td>RCB</td>\n",
       "      <td>SOLD</td>\n",
       "    </tr>\n",
       "    <tr>\n",
       "      <th>32</th>\n",
       "      <td>Sonu Yadav</td>\n",
       "      <td>Allrounder</td>\n",
       "      <td>India</td>\n",
       "      <td>20.0</td>\n",
       "      <td>20.0</td>\n",
       "      <td>RCB</td>\n",
       "      <td>SOLD</td>\n",
       "    </tr>\n",
       "    <tr>\n",
       "      <th>109</th>\n",
       "      <td>Vaibhav Arora</td>\n",
       "      <td>Allrounder</td>\n",
       "      <td>India</td>\n",
       "      <td>20.0</td>\n",
       "      <td>60.0</td>\n",
       "      <td>KKR</td>\n",
       "      <td>SOLD</td>\n",
       "    </tr>\n",
       "    <tr>\n",
       "      <th>53</th>\n",
       "      <td>Swapnil Singh</td>\n",
       "      <td>Allrounder</td>\n",
       "      <td>India</td>\n",
       "      <td>20.0</td>\n",
       "      <td>20.0</td>\n",
       "      <td>LSG</td>\n",
       "      <td>SOLD</td>\n",
       "    </tr>\n",
       "    <tr>\n",
       "      <th>11</th>\n",
       "      <td>Dilshan Madushanka</td>\n",
       "      <td>Bowler</td>\n",
       "      <td>Sri Lanka</td>\n",
       "      <td>50.0</td>\n",
       "      <td>NaN</td>\n",
       "      <td>NaN</td>\n",
       "      <td>UNSOLD</td>\n",
       "    </tr>\n",
       "  </tbody>\n",
       "</table>\n",
       "</div>"
      ],
      "text/plain": [
       "                    name player style nationality  base price (in lacs)  \\\n",
       "254   Krishnappa Gowtham   Allrounder       India                   NaN   \n",
       "40    Kulwant Khejroliya       Bowler       India                  20.0   \n",
       "259         Baltej Singh   Allrounder       India                   NaN   \n",
       "81   Blessing Muzarabani       Bowler    Zimbabwe                  50.0   \n",
       "37          Jitender Pal   Allrounder       India                  20.0   \n",
       "98       Himanshu Sharma       Bowler       India                  20.0   \n",
       "32            Sonu Yadav   Allrounder       India                  20.0   \n",
       "109        Vaibhav Arora   Allrounder       India                  20.0   \n",
       "53         Swapnil Singh   Allrounder       India                  20.0   \n",
       "11    Dilshan Madushanka       Bowler   Sri Lanka                  50.0   \n",
       "\n",
       "     final price (in lacs) franchise    status  \n",
       "254                   90.0       LSG  RETAINED  \n",
       "40                    20.0       KKR      SOLD  \n",
       "259                   20.0      PBKS  RETAINED  \n",
       "81                     NaN       NaN    UNSOLD  \n",
       "37                     NaN       NaN    UNSOLD  \n",
       "98                    20.0       RCB      SOLD  \n",
       "32                    20.0       RCB      SOLD  \n",
       "109                   60.0       KKR      SOLD  \n",
       "53                    20.0       LSG      SOLD  \n",
       "11                     NaN       NaN    UNSOLD  "
      ]
     },
     "execution_count": 61,
     "metadata": {},
     "output_type": "execute_result"
    }
   ],
   "source": [
    "df.sample(10)"
   ]
  },
  {
   "cell_type": "markdown",
   "id": "7a56c455-45d1-45cc-987c-f09e73bd0b41",
   "metadata": {},
   "source": [
    "# handling null values"
   ]
  },
  {
   "cell_type": "code",
   "execution_count": 63,
   "id": "f55255fc-b110-4a2a-8d67-821d927ac1cb",
   "metadata": {},
   "outputs": [
    {
     "data": {
      "text/plain": [
       "name                       0\n",
       "player style               0\n",
       "nationality                0\n",
       "base price (in lacs)     158\n",
       "final price (in lacs)     71\n",
       "franchise                 71\n",
       "status                     0\n",
       "dtype: int64"
      ]
     },
     "execution_count": 63,
     "metadata": {},
     "output_type": "execute_result"
    }
   ],
   "source": [
    "df.isnull().sum()"
   ]
  },
  {
   "cell_type": "code",
   "execution_count": 64,
   "id": "dbeb831a-3573-4a15-afb7-5693d51fcce4",
   "metadata": {},
   "outputs": [],
   "source": [
    "df['base price (in lacs)'] = df['base price (in lacs)'].fillna(0)\n",
    "df['final price (in lacs)'] = df['final price (in lacs)'].fillna(0)\n",
    "df['franchise'] = df['franchise'].fillna('Unknown')"
   ]
  },
  {
   "cell_type": "code",
   "execution_count": 65,
   "id": "dcfac38a-7032-40a9-8747-3891a23818d8",
   "metadata": {},
   "outputs": [
    {
     "data": {
      "text/plain": [
       "name                     0\n",
       "player style             0\n",
       "nationality              0\n",
       "base price (in lacs)     0\n",
       "final price (in lacs)    0\n",
       "franchise                0\n",
       "status                   0\n",
       "dtype: int64"
      ]
     },
     "execution_count": 65,
     "metadata": {},
     "output_type": "execute_result"
    }
   ],
   "source": [
    "df.isnull().sum()"
   ]
  },
  {
   "cell_type": "markdown",
   "id": "c56104dc-3ea6-4e95-9c9a-2c2e6fe9662a",
   "metadata": {},
   "source": [
    "# cateorical variables visualization"
   ]
  },
  {
   "cell_type": "code",
   "execution_count": 67,
   "id": "ee0ae9be-063e-4c4b-b8c1-120180465668",
   "metadata": {},
   "outputs": [
    {
     "data": {
      "text/plain": [
       "<Axes: xlabel='player style', ylabel='base price (in lacs)'>"
      ]
     },
     "execution_count": 67,
     "metadata": {},
     "output_type": "execute_result"
    },
    {
     "data": {
      "image/png": "[encoded data removed]",
      "text/plain": [
       "<Figure size 640x480 with 1 Axes>"
      ]
     },
     "metadata": {},
     "output_type": "display_data"
    }
   ],
   "source": [
    "sns.boxplot(x='player style', y='base price (in lacs)', data=df)"
   ]
  },
  {
   "cell_type": "code",
   "execution_count": 68,
   "id": "e1ded156-c951-45ca-a3f7-6067e52de3cc",
   "metadata": {},
   "outputs": [
    {
     "data": {
      "text/plain": [
       "<Axes: xlabel='player style', ylabel='final price (in lacs)'>"
      ]
     },
     "execution_count": 68,
     "metadata": {},
     "output_type": "execute_result"
    },
    {
     "data": {
      "image/png": "[encoded data removed]",
      "text/plain": [
       "<Figure size 640x480 with 1 Axes>"
      ]
     },
     "metadata": {},
     "output_type": "display_data"
    }
   ],
   "source": [
    "sns.boxplot(x='player style', y='final price (in lacs)', data=df)"
   ]
  },
  {
   "cell_type": "code",
   "execution_count": 69,
   "id": "a5949ae3-18f4-4470-b530-adf89d6d6f8a",
   "metadata": {},
   "outputs": [
    {
     "data": {
      "image/png": "[encoded data removed]",
      "text/plain": [
       "<Figure size 1400x600 with 1 Axes>"
      ]
     },
     "metadata": {},
     "output_type": "display_data"
    }
   ],
   "source": [
    "plt.figure(figsize=(14,6))\n",
    "sns.boxplot(x='nationality', y='base price (in lacs)', data=df)\n",
    "plt.xticks(rotation=30)\n",
    "plt.show()"
   ]
  },
  {
   "cell_type": "code",
   "execution_count": 70,
   "id": "82dc49c4-74d0-498c-a895-f8aee5781468",
   "metadata": {},
   "outputs": [
    {
     "data": {
      "text/plain": [
       "<function matplotlib.pyplot.show(close=None, block=None)>"
      ]
     },
     "execution_count": 70,
     "metadata": {},
     "output_type": "execute_result"
    },
    {
     "data": {
      "image/png": "[encoded data removed]",
      "text/plain": [
       "<Figure size 1400x600 with 1 Axes>"
      ]
     },
     "metadata": {},
     "output_type": "display_data"
    }
   ],
   "source": [
    "plt.figure(figsize=(14,6))\n",
    "sns.boxplot(x='nationality', y='final price (in lacs)', data=df)\n",
    "plt.xticks(rotation=30)\n",
    "plt.show"
   ]
  },
  {
   "cell_type": "markdown",
   "id": "0fae92cd-22e7-4ef1-ab7f-1871d00d6848",
   "metadata": {},
   "source": [
    "# descriptive statistical analysis"
   ]
  },
  {
   "cell_type": "code",
   "execution_count": 72,
   "id": "fe6c1f26-bdbd-4d12-b61d-4c2766d68f20",
   "metadata": {},
   "outputs": [
    {
     "data": {
      "text/html": [
       "<div>\n",
       "<style scoped>\n",
       "    .dataframe tbody tr th:only-of-type {\n",
       "        vertical-align: middle;\n",
       "    }\n",
       "\n",
       "    .dataframe tbody tr th {\n",
       "        vertical-align: top;\n",
       "    }\n",
       "\n",
       "    .dataframe thead th {\n",
       "        text-align: right;\n",
       "    }\n",
       "</style>\n",
       "<table border=\"1\" class=\"dataframe\">\n",
       "  <thead>\n",
       "    <tr style=\"text-align: right;\">\n",
       "      <th></th>\n",
       "      <th>base price (in lacs)</th>\n",
       "      <th>final price (in lacs)</th>\n",
       "    </tr>\n",
       "  </thead>\n",
       "  <tbody>\n",
       "    <tr>\n",
       "      <th>count</th>\n",
       "      <td>309.000000</td>\n",
       "      <td>309.000000</td>\n",
       "    </tr>\n",
       "    <tr>\n",
       "      <th>mean</th>\n",
       "      <td>28.932039</td>\n",
       "      <td>283.495146</td>\n",
       "    </tr>\n",
       "    <tr>\n",
       "      <th>std</th>\n",
       "      <td>51.125246</td>\n",
       "      <td>423.355778</td>\n",
       "    </tr>\n",
       "    <tr>\n",
       "      <th>min</th>\n",
       "      <td>0.000000</td>\n",
       "      <td>0.000000</td>\n",
       "    </tr>\n",
       "    <tr>\n",
       "      <th>25%</th>\n",
       "      <td>0.000000</td>\n",
       "      <td>20.000000</td>\n",
       "    </tr>\n",
       "    <tr>\n",
       "      <th>50%</th>\n",
       "      <td>0.000000</td>\n",
       "      <td>50.000000</td>\n",
       "    </tr>\n",
       "    <tr>\n",
       "      <th>75%</th>\n",
       "      <td>20.000000</td>\n",
       "      <td>400.000000</td>\n",
       "    </tr>\n",
       "    <tr>\n",
       "      <th>max</th>\n",
       "      <td>200.000000</td>\n",
       "      <td>1850.000000</td>\n",
       "    </tr>\n",
       "  </tbody>\n",
       "</table>\n",
       "</div>"
      ],
      "text/plain": [
       "       base price (in lacs)  final price (in lacs)\n",
       "count            309.000000             309.000000\n",
       "mean              28.932039             283.495146\n",
       "std               51.125246             423.355778\n",
       "min                0.000000               0.000000\n",
       "25%                0.000000              20.000000\n",
       "50%                0.000000              50.000000\n",
       "75%               20.000000             400.000000\n",
       "max              200.000000            1850.000000"
      ]
     },
     "execution_count": 72,
     "metadata": {},
     "output_type": "execute_result"
    }
   ],
   "source": [
    "df.describe()"
   ]
  },
  {
   "cell_type": "code",
   "execution_count": 73,
   "id": "1764daa4-e6cd-4b57-9a9b-030f4040aa18",
   "metadata": {},
   "outputs": [
    {
     "data": {
      "text/html": [
       "<div>\n",
       "<style scoped>\n",
       "    .dataframe tbody tr th:only-of-type {\n",
       "        vertical-align: middle;\n",
       "    }\n",
       "\n",
       "    .dataframe tbody tr th {\n",
       "        vertical-align: top;\n",
       "    }\n",
       "\n",
       "    .dataframe thead th {\n",
       "        text-align: right;\n",
       "    }\n",
       "</style>\n",
       "<table border=\"1\" class=\"dataframe\">\n",
       "  <thead>\n",
       "    <tr style=\"text-align: right;\">\n",
       "      <th></th>\n",
       "      <th>name</th>\n",
       "      <th>player style</th>\n",
       "      <th>nationality</th>\n",
       "      <th>franchise</th>\n",
       "      <th>status</th>\n",
       "    </tr>\n",
       "  </thead>\n",
       "  <tbody>\n",
       "    <tr>\n",
       "      <th>count</th>\n",
       "      <td>309</td>\n",
       "      <td>309</td>\n",
       "      <td>309</td>\n",
       "      <td>309</td>\n",
       "      <td>309</td>\n",
       "    </tr>\n",
       "    <tr>\n",
       "      <th>unique</th>\n",
       "      <td>309</td>\n",
       "      <td>4</td>\n",
       "      <td>14</td>\n",
       "      <td>11</td>\n",
       "      <td>3</td>\n",
       "    </tr>\n",
       "    <tr>\n",
       "      <th>top</th>\n",
       "      <td>Axar Patel</td>\n",
       "      <td>Bowler</td>\n",
       "      <td>India</td>\n",
       "      <td>Unknown</td>\n",
       "      <td>RETAINED</td>\n",
       "    </tr>\n",
       "    <tr>\n",
       "      <th>freq</th>\n",
       "      <td>1</td>\n",
       "      <td>111</td>\n",
       "      <td>201</td>\n",
       "      <td>71</td>\n",
       "      <td>158</td>\n",
       "    </tr>\n",
       "  </tbody>\n",
       "</table>\n",
       "</div>"
      ],
      "text/plain": [
       "              name player style nationality franchise    status\n",
       "count          309          309         309       309       309\n",
       "unique         309            4          14        11         3\n",
       "top     Axar Patel       Bowler       India   Unknown  RETAINED\n",
       "freq             1          111         201        71       158"
      ]
     },
     "execution_count": 73,
     "metadata": {},
     "output_type": "execute_result"
    }
   ],
   "source": [
    "df.describe(include=['object'])"
   ]
  },
  {
   "cell_type": "code",
   "execution_count": 74,
   "id": "39dd3444-9bb6-4285-912c-39d45e80d456",
   "metadata": {},
   "outputs": [
    {
     "data": {
      "text/plain": [
       "name                     309\n",
       "player style               4\n",
       "nationality               14\n",
       "base price (in lacs)       9\n",
       "final price (in lacs)     68\n",
       "franchise                 11\n",
       "status                     3\n",
       "dtype: int64"
      ]
     },
     "execution_count": 74,
     "metadata": {},
     "output_type": "execute_result"
    }
   ],
   "source": [
    "df.nunique()"
   ]
  },
  {
   "cell_type": "code",
   "execution_count": 75,
   "id": "69aebf0a-26a8-4766-81fd-63d197be5eab",
   "metadata": {},
   "outputs": [
    {
     "data": {
      "text/plain": [
       "player style\n",
       "Bowler        111\n",
       "Allrounder    103\n",
       "Batter         55\n",
       "WK-Batter      40\n",
       "Name: count, dtype: int64"
      ]
     },
     "execution_count": 75,
     "metadata": {},
     "output_type": "execute_result"
    }
   ],
   "source": [
    "player_style = df['player style'].value_counts()\n",
    "player_style"
   ]
  },
  {
   "cell_type": "code",
   "execution_count": 76,
   "id": "696d25c0-0639-4dbb-9c04-50058a043415",
   "metadata": {},
   "outputs": [
    {
     "data": {
      "image/png": "[encoded data removed]",
      "text/plain": [
       "<Figure size 640x480 with 1 Axes>"
      ]
     },
     "metadata": {},
     "output_type": "display_data"
    }
   ],
   "source": [
    "player_style.plot(kind='pie', autopct='%1.1f%%')\n",
    "plt.ylabel('')\n",
    "plt.show()"
   ]
  },
  {
   "cell_type": "code",
   "execution_count": 77,
   "id": "c18dbbd4-4bbf-436f-9a78-a6139c083c58",
   "metadata": {},
   "outputs": [
    {
     "data": {
      "text/plain": [
       "nationality\n",
       "India           201\n",
       "England          24\n",
       "South Africa     19\n",
       "West Indies      14\n",
       "Australia        14\n",
       "New Zealand      11\n",
       "Sri Lanka         8\n",
       "Afghanistan       7\n",
       "Bangladesh        4\n",
       "Ireland           2\n",
       "Zimbabwe          2\n",
       "Namibia           1\n",
       "Netherlands       1\n",
       "Singapore         1\n",
       "Name: count, dtype: int64"
      ]
     },
     "execution_count": 77,
     "metadata": {},
     "output_type": "execute_result"
    }
   ],
   "source": [
    "nations = df.nationality.value_counts()\n",
    "nations"
   ]
  },
  {
   "cell_type": "code",
   "execution_count": 78,
   "id": "c2b56242-d2e9-4977-a632-9a377568dd2a",
   "metadata": {},
   "outputs": [
    {
     "data": {
      "image/png": "[encoded data removed]",
      "text/plain": [
       "<Figure size 640x480 with 1 Axes>"
      ]
     },
     "metadata": {},
     "output_type": "display_data"
    }
   ],
   "source": [
    "nations.plot(kind='bar')\n",
    "plt.ylabel('count')\n",
    "plt.show()"
   ]
  },
  {
   "cell_type": "code",
   "execution_count": 79,
   "id": "79b8fab6-47b5-4d92-8824-0963d37f1f17",
   "metadata": {},
   "outputs": [
    {
     "data": {
      "text/plain": [
       "franchise\n",
       "Unknown    71\n",
       "RR         25\n",
       "SRH        25\n",
       "GT         25\n",
       "LSG        25\n",
       "RCB        25\n",
       "CSK        25\n",
       "DC         24\n",
       "MI         23\n",
       "PBKS       22\n",
       "KKR        19\n",
       "Name: count, dtype: int64"
      ]
     },
     "execution_count": 79,
     "metadata": {},
     "output_type": "execute_result"
    }
   ],
   "source": [
    "franchise = df.franchise.value_counts()\n",
    "franchise"
   ]
  },
  {
   "cell_type": "code",
   "execution_count": 80,
   "id": "19fb8b43-9931-49e6-891b-6bea48092d18",
   "metadata": {},
   "outputs": [
    {
     "data": {
      "image/png": "[encoded data removed]",
      "text/plain": [
       "<Figure size 640x480 with 1 Axes>"
      ]
     },
     "metadata": {},
     "output_type": "display_data"
    }
   ],
   "source": [
    "franchise.plot(kind='pie', autopct='%1.1f%%')\n",
    "plt.ylabel('')\n",
    "plt.show()"
   ]
  },
  {
   "cell_type": "code",
   "execution_count": 81,
   "id": "2ed75452-fd96-47c5-844d-3e438cf50f38",
   "metadata": {},
   "outputs": [
    {
     "data": {
      "text/plain": [
       "status\n",
       "RETAINED    158\n",
       "SOLD         80\n",
       "UNSOLD       71\n",
       "Name: count, dtype: int64"
      ]
     },
     "execution_count": 81,
     "metadata": {},
     "output_type": "execute_result"
    }
   ],
   "source": [
    "status = df.status.value_counts()\n",
    "status"
   ]
  },
  {
   "cell_type": "code",
   "execution_count": 82,
   "id": "61e03938-2d4f-4b66-8162-335d09b957fe",
   "metadata": {},
   "outputs": [
    {
     "data": {
      "image/png": "[encoded data removed]",
      "text/plain": [
       "<Figure size 640x480 with 1 Axes>"
      ]
     },
     "metadata": {},
     "output_type": "display_data"
    }
   ],
   "source": [
    "status.plot(kind='bar')\n",
    "plt.ylabel('count')\n",
    "plt.show()"
   ]
  },
  {
   "cell_type": "markdown",
   "id": "e300ee44-4b68-48ca-839b-fed65aee3f74",
   "metadata": {},
   "source": [
    "## according to player style"
   ]
  },
  {
   "cell_type": "code",
   "execution_count": 89,
   "id": "2d7d16a3-7f40-4f0d-ab6b-684a1c06e31e",
   "metadata": {},
   "outputs": [
    {
     "data": {
      "text/html": [
       "<div>\n",
       "<style scoped>\n",
       "    .dataframe tbody tr th:only-of-type {\n",
       "        vertical-align: middle;\n",
       "    }\n",
       "\n",
       "    .dataframe tbody tr th {\n",
       "        vertical-align: top;\n",
       "    }\n",
       "\n",
       "    .dataframe thead th {\n",
       "        text-align: right;\n",
       "    }\n",
       "</style>\n",
       "<table border=\"1\" class=\"dataframe\">\n",
       "  <thead>\n",
       "    <tr style=\"text-align: right;\">\n",
       "      <th></th>\n",
       "      <th>player style</th>\n",
       "      <th>final price (in lacs)</th>\n",
       "    </tr>\n",
       "  </thead>\n",
       "  <tbody>\n",
       "    <tr>\n",
       "      <th>0</th>\n",
       "      <td>Allrounder</td>\n",
       "      <td>281.310680</td>\n",
       "    </tr>\n",
       "    <tr>\n",
       "      <th>1</th>\n",
       "      <td>Batter</td>\n",
       "      <td>340.090909</td>\n",
       "    </tr>\n",
       "    <tr>\n",
       "      <th>2</th>\n",
       "      <td>Bowler</td>\n",
       "      <td>227.567568</td>\n",
       "    </tr>\n",
       "    <tr>\n",
       "      <th>3</th>\n",
       "      <td>WK-Batter</td>\n",
       "      <td>366.500000</td>\n",
       "    </tr>\n",
       "  </tbody>\n",
       "</table>\n",
       "</div>"
      ],
      "text/plain": [
       "  player style  final price (in lacs)\n",
       "0   Allrounder             281.310680\n",
       "1       Batter             340.090909\n",
       "2       Bowler             227.567568\n",
       "3    WK-Batter             366.500000"
      ]
     },
     "execution_count": 89,
     "metadata": {},
     "output_type": "execute_result"
    }
   ],
   "source": [
    "avg_final_price = df.groupby('player style')['final price (in lacs)'].mean().reset_index()\n",
    "avg_final_price"
   ]
  },
  {
   "cell_type": "markdown",
   "id": "c8919da0-41d1-4fff-bbb6-f045e0366a3d",
   "metadata": {},
   "source": [
    "## according to nationality and player style"
   ]
  },
  {
   "cell_type": "code",
   "execution_count": 90,
   "id": "f55fdf59-48f2-4427-a0cc-5b2dec281019",
   "metadata": {},
   "outputs": [
    {
     "data": {
      "text/html": [
       "<div>\n",
       "<style scoped>\n",
       "    .dataframe tbody tr th:only-of-type {\n",
       "        vertical-align: middle;\n",
       "    }\n",
       "\n",
       "    .dataframe tbody tr th {\n",
       "        vertical-align: top;\n",
       "    }\n",
       "\n",
       "    .dataframe thead th {\n",
       "        text-align: right;\n",
       "    }\n",
       "</style>\n",
       "<table border=\"1\" class=\"dataframe\">\n",
       "  <thead>\n",
       "    <tr style=\"text-align: right;\">\n",
       "      <th></th>\n",
       "      <th>nationality</th>\n",
       "      <th>player style</th>\n",
       "      <th>final price (in lacs)</th>\n",
       "    </tr>\n",
       "  </thead>\n",
       "  <tbody>\n",
       "    <tr>\n",
       "      <th>0</th>\n",
       "      <td>Afghanistan</td>\n",
       "      <td>Allrounder</td>\n",
       "      <td>25.000000</td>\n",
       "    </tr>\n",
       "    <tr>\n",
       "      <th>1</th>\n",
       "      <td>Afghanistan</td>\n",
       "      <td>Bowler</td>\n",
       "      <td>316.000000</td>\n",
       "    </tr>\n",
       "    <tr>\n",
       "      <th>2</th>\n",
       "      <td>Australia</td>\n",
       "      <td>Allrounder</td>\n",
       "      <td>749.166667</td>\n",
       "    </tr>\n",
       "    <tr>\n",
       "      <th>3</th>\n",
       "      <td>Australia</td>\n",
       "      <td>Batter</td>\n",
       "      <td>625.000000</td>\n",
       "    </tr>\n",
       "    <tr>\n",
       "      <th>4</th>\n",
       "      <td>Australia</td>\n",
       "      <td>Bowler</td>\n",
       "      <td>191.666667</td>\n",
       "    </tr>\n",
       "    <tr>\n",
       "      <th>5</th>\n",
       "      <td>Australia</td>\n",
       "      <td>WK-Batter</td>\n",
       "      <td>240.000000</td>\n",
       "    </tr>\n",
       "    <tr>\n",
       "      <th>6</th>\n",
       "      <td>Bangladesh</td>\n",
       "      <td>Allrounder</td>\n",
       "      <td>150.000000</td>\n",
       "    </tr>\n",
       "    <tr>\n",
       "      <th>7</th>\n",
       "      <td>Bangladesh</td>\n",
       "      <td>Bowler</td>\n",
       "      <td>100.000000</td>\n",
       "    </tr>\n",
       "    <tr>\n",
       "      <th>8</th>\n",
       "      <td>Bangladesh</td>\n",
       "      <td>WK-Batter</td>\n",
       "      <td>50.000000</td>\n",
       "    </tr>\n",
       "    <tr>\n",
       "      <th>9</th>\n",
       "      <td>England</td>\n",
       "      <td>Allrounder</td>\n",
       "      <td>660.555556</td>\n",
       "    </tr>\n",
       "    <tr>\n",
       "      <th>10</th>\n",
       "      <td>England</td>\n",
       "      <td>Batter</td>\n",
       "      <td>325.000000</td>\n",
       "    </tr>\n",
       "    <tr>\n",
       "      <th>11</th>\n",
       "      <td>England</td>\n",
       "      <td>Bowler</td>\n",
       "      <td>277.142857</td>\n",
       "    </tr>\n",
       "    <tr>\n",
       "      <th>12</th>\n",
       "      <td>England</td>\n",
       "      <td>WK-Batter</td>\n",
       "      <td>558.333333</td>\n",
       "    </tr>\n",
       "    <tr>\n",
       "      <th>13</th>\n",
       "      <td>India</td>\n",
       "      <td>Allrounder</td>\n",
       "      <td>203.593750</td>\n",
       "    </tr>\n",
       "    <tr>\n",
       "      <th>14</th>\n",
       "      <td>India</td>\n",
       "      <td>Batter</td>\n",
       "      <td>340.921053</td>\n",
       "    </tr>\n",
       "    <tr>\n",
       "      <th>15</th>\n",
       "      <td>India</td>\n",
       "      <td>Bowler</td>\n",
       "      <td>230.410959</td>\n",
       "    </tr>\n",
       "    <tr>\n",
       "      <th>16</th>\n",
       "      <td>India</td>\n",
       "      <td>WK-Batter</td>\n",
       "      <td>369.038462</td>\n",
       "    </tr>\n",
       "    <tr>\n",
       "      <th>17</th>\n",
       "      <td>Ireland</td>\n",
       "      <td>Allrounder</td>\n",
       "      <td>0.000000</td>\n",
       "    </tr>\n",
       "    <tr>\n",
       "      <th>18</th>\n",
       "      <td>Ireland</td>\n",
       "      <td>Bowler</td>\n",
       "      <td>440.000000</td>\n",
       "    </tr>\n",
       "    <tr>\n",
       "      <th>19</th>\n",
       "      <td>Namibia</td>\n",
       "      <td>Allrounder</td>\n",
       "      <td>100.000000</td>\n",
       "    </tr>\n",
       "    <tr>\n",
       "      <th>20</th>\n",
       "      <td>Netherlands</td>\n",
       "      <td>Bowler</td>\n",
       "      <td>0.000000</td>\n",
       "    </tr>\n",
       "    <tr>\n",
       "      <th>21</th>\n",
       "      <td>New Zealand</td>\n",
       "      <td>Allrounder</td>\n",
       "      <td>72.500000</td>\n",
       "    </tr>\n",
       "    <tr>\n",
       "      <th>22</th>\n",
       "      <td>New Zealand</td>\n",
       "      <td>Batter</td>\n",
       "      <td>150.000000</td>\n",
       "    </tr>\n",
       "    <tr>\n",
       "      <th>23</th>\n",
       "      <td>New Zealand</td>\n",
       "      <td>Bowler</td>\n",
       "      <td>316.666667</td>\n",
       "    </tr>\n",
       "    <tr>\n",
       "      <th>24</th>\n",
       "      <td>New Zealand</td>\n",
       "      <td>WK-Batter</td>\n",
       "      <td>115.000000</td>\n",
       "    </tr>\n",
       "    <tr>\n",
       "      <th>25</th>\n",
       "      <td>Singapore</td>\n",
       "      <td>Allrounder</td>\n",
       "      <td>825.000000</td>\n",
       "    </tr>\n",
       "    <tr>\n",
       "      <th>26</th>\n",
       "      <td>South Africa</td>\n",
       "      <td>Allrounder</td>\n",
       "      <td>98.000000</td>\n",
       "    </tr>\n",
       "    <tr>\n",
       "      <th>27</th>\n",
       "      <td>South Africa</td>\n",
       "      <td>Batter</td>\n",
       "      <td>336.666667</td>\n",
       "    </tr>\n",
       "    <tr>\n",
       "      <th>28</th>\n",
       "      <td>South Africa</td>\n",
       "      <td>Bowler</td>\n",
       "      <td>406.250000</td>\n",
       "    </tr>\n",
       "    <tr>\n",
       "      <th>29</th>\n",
       "      <td>South Africa</td>\n",
       "      <td>WK-Batter</td>\n",
       "      <td>317.500000</td>\n",
       "    </tr>\n",
       "    <tr>\n",
       "      <th>30</th>\n",
       "      <td>Sri Lanka</td>\n",
       "      <td>Allrounder</td>\n",
       "      <td>537.500000</td>\n",
       "    </tr>\n",
       "    <tr>\n",
       "      <th>31</th>\n",
       "      <td>Sri Lanka</td>\n",
       "      <td>Batter</td>\n",
       "      <td>50.000000</td>\n",
       "    </tr>\n",
       "    <tr>\n",
       "      <th>32</th>\n",
       "      <td>Sri Lanka</td>\n",
       "      <td>Bowler</td>\n",
       "      <td>22.500000</td>\n",
       "    </tr>\n",
       "    <tr>\n",
       "      <th>33</th>\n",
       "      <td>Sri Lanka</td>\n",
       "      <td>WK-Batter</td>\n",
       "      <td>0.000000</td>\n",
       "    </tr>\n",
       "    <tr>\n",
       "      <th>34</th>\n",
       "      <td>West Indies</td>\n",
       "      <td>Allrounder</td>\n",
       "      <td>412.500000</td>\n",
       "    </tr>\n",
       "    <tr>\n",
       "      <th>35</th>\n",
       "      <td>West Indies</td>\n",
       "      <td>Batter</td>\n",
       "      <td>565.000000</td>\n",
       "    </tr>\n",
       "    <tr>\n",
       "      <th>36</th>\n",
       "      <td>West Indies</td>\n",
       "      <td>Bowler</td>\n",
       "      <td>116.250000</td>\n",
       "    </tr>\n",
       "    <tr>\n",
       "      <th>37</th>\n",
       "      <td>West Indies</td>\n",
       "      <td>WK-Batter</td>\n",
       "      <td>800.000000</td>\n",
       "    </tr>\n",
       "    <tr>\n",
       "      <th>38</th>\n",
       "      <td>Zimbabwe</td>\n",
       "      <td>Allrounder</td>\n",
       "      <td>50.000000</td>\n",
       "    </tr>\n",
       "    <tr>\n",
       "      <th>39</th>\n",
       "      <td>Zimbabwe</td>\n",
       "      <td>Bowler</td>\n",
       "      <td>0.000000</td>\n",
       "    </tr>\n",
       "  </tbody>\n",
       "</table>\n",
       "</div>"
      ],
      "text/plain": [
       "     nationality player style  final price (in lacs)\n",
       "0    Afghanistan   Allrounder              25.000000\n",
       "1    Afghanistan       Bowler             316.000000\n",
       "2      Australia   Allrounder             749.166667\n",
       "3      Australia       Batter             625.000000\n",
       "4      Australia       Bowler             191.666667\n",
       "5      Australia    WK-Batter             240.000000\n",
       "6     Bangladesh   Allrounder             150.000000\n",
       "7     Bangladesh       Bowler             100.000000\n",
       "8     Bangladesh    WK-Batter              50.000000\n",
       "9        England   Allrounder             660.555556\n",
       "10       England       Batter             325.000000\n",
       "11       England       Bowler             277.142857\n",
       "12       England    WK-Batter             558.333333\n",
       "13         India   Allrounder             203.593750\n",
       "14         India       Batter             340.921053\n",
       "15         India       Bowler             230.410959\n",
       "16         India    WK-Batter             369.038462\n",
       "17       Ireland   Allrounder               0.000000\n",
       "18       Ireland       Bowler             440.000000\n",
       "19       Namibia   Allrounder             100.000000\n",
       "20   Netherlands       Bowler               0.000000\n",
       "21   New Zealand   Allrounder              72.500000\n",
       "22   New Zealand       Batter             150.000000\n",
       "23   New Zealand       Bowler             316.666667\n",
       "24   New Zealand    WK-Batter             115.000000\n",
       "25     Singapore   Allrounder             825.000000\n",
       "26  South Africa   Allrounder              98.000000\n",
       "27  South Africa       Batter             336.666667\n",
       "28  South Africa       Bowler             406.250000\n",
       "29  South Africa    WK-Batter             317.500000\n",
       "30     Sri Lanka   Allrounder             537.500000\n",
       "31     Sri Lanka       Batter              50.000000\n",
       "32     Sri Lanka       Bowler              22.500000\n",
       "33     Sri Lanka    WK-Batter               0.000000\n",
       "34   West Indies   Allrounder             412.500000\n",
       "35   West Indies       Batter             565.000000\n",
       "36   West Indies       Bowler             116.250000\n",
       "37   West Indies    WK-Batter             800.000000\n",
       "38      Zimbabwe   Allrounder              50.000000\n",
       "39      Zimbabwe       Bowler               0.000000"
      ]
     },
     "execution_count": 90,
     "metadata": {},
     "output_type": "execute_result"
    }
   ],
   "source": [
    "avg_final_price2 = df.groupby(['nationality','player style'])['final price (in lacs)'].mean().reset_index()\n",
    "avg_final_price2"
   ]
  },
  {
   "cell_type": "markdown",
   "id": "29e28b32-f96a-4d62-bd14-c4ba8841d0b3",
   "metadata": {},
   "source": [
    "# highest average final price"
   ]
  },
  {
   "cell_type": "markdown",
   "id": "8a2b1be9-edd0-4801-9304-42a4ccf083d1",
   "metadata": {},
   "source": [
    "## highest average final price according to player style"
   ]
  },
  {
   "cell_type": "code",
   "execution_count": 91,
   "id": "a6012b0d-30d8-4c92-90fb-ef55430bbcfc",
   "metadata": {},
   "outputs": [
    {
     "data": {
      "text/html": [
       "<div>\n",
       "<style scoped>\n",
       "    .dataframe tbody tr th:only-of-type {\n",
       "        vertical-align: middle;\n",
       "    }\n",
       "\n",
       "    .dataframe tbody tr th {\n",
       "        vertical-align: top;\n",
       "    }\n",
       "\n",
       "    .dataframe thead th {\n",
       "        text-align: right;\n",
       "    }\n",
       "</style>\n",
       "<table border=\"1\" class=\"dataframe\">\n",
       "  <thead>\n",
       "    <tr style=\"text-align: right;\">\n",
       "      <th></th>\n",
       "      <th>player style</th>\n",
       "      <th>final price (in lacs)</th>\n",
       "    </tr>\n",
       "  </thead>\n",
       "  <tbody>\n",
       "    <tr>\n",
       "      <th>3</th>\n",
       "      <td>WK-Batter</td>\n",
       "      <td>366.500000</td>\n",
       "    </tr>\n",
       "    <tr>\n",
       "      <th>1</th>\n",
       "      <td>Batter</td>\n",
       "      <td>340.090909</td>\n",
       "    </tr>\n",
       "    <tr>\n",
       "      <th>0</th>\n",
       "      <td>Allrounder</td>\n",
       "      <td>281.310680</td>\n",
       "    </tr>\n",
       "    <tr>\n",
       "      <th>2</th>\n",
       "      <td>Bowler</td>\n",
       "      <td>227.567568</td>\n",
       "    </tr>\n",
       "  </tbody>\n",
       "</table>\n",
       "</div>"
      ],
      "text/plain": [
       "  player style  final price (in lacs)\n",
       "3    WK-Batter             366.500000\n",
       "1       Batter             340.090909\n",
       "0   Allrounder             281.310680\n",
       "2       Bowler             227.567568"
      ]
     },
     "execution_count": 91,
     "metadata": {},
     "output_type": "execute_result"
    }
   ],
   "source": [
    "avg_final_price3 = avg_final_price.sort_values(by='final price (in lacs)', ascending=False)\n",
    "avg_final_price3"
   ]
  },
  {
   "cell_type": "code",
   "execution_count": 92,
   "id": "ab608761-ee71-431a-b6e1-2b32c27e6d1c",
   "metadata": {},
   "outputs": [
    {
     "data": {
      "image/png": "[encoded data removed]",
      "text/plain": [
       "<Figure size 640x480 with 1 Axes>"
      ]
     },
     "metadata": {},
     "output_type": "display_data"
    }
   ],
   "source": [
    "avg_final_price3.plot(kind='barh',x='player style',color='g')\n",
    "plt.xlabel('Average Final Price')\n",
    "plt.ylabel('Player Style')\n",
    "plt.show()"
   ]
  },
  {
   "cell_type": "markdown",
   "id": "be7db9b3-6aed-4d0f-a326-d646fbe807c3",
   "metadata": {},
   "source": [
    "# base price according to status"
   ]
  },
  {
   "cell_type": "code",
   "execution_count": 94,
   "id": "39139326-5beb-4953-a191-9999f9d5dca8",
   "metadata": {},
   "outputs": [
    {
     "data": {
      "text/html": [
       "<div>\n",
       "<style scoped>\n",
       "    .dataframe tbody tr th:only-of-type {\n",
       "        vertical-align: middle;\n",
       "    }\n",
       "\n",
       "    .dataframe tbody tr th {\n",
       "        vertical-align: top;\n",
       "    }\n",
       "\n",
       "    .dataframe thead th {\n",
       "        text-align: right;\n",
       "    }\n",
       "</style>\n",
       "<table border=\"1\" class=\"dataframe\">\n",
       "  <thead>\n",
       "    <tr style=\"text-align: right;\">\n",
       "      <th></th>\n",
       "      <th>status</th>\n",
       "      <th>base price (in lacs)</th>\n",
       "    </tr>\n",
       "  </thead>\n",
       "  <tbody>\n",
       "    <tr>\n",
       "      <th>0</th>\n",
       "      <td>RETAINED</td>\n",
       "      <td>0.000000</td>\n",
       "    </tr>\n",
       "    <tr>\n",
       "      <th>1</th>\n",
       "      <td>SOLD</td>\n",
       "      <td>62.375000</td>\n",
       "    </tr>\n",
       "    <tr>\n",
       "      <th>2</th>\n",
       "      <td>UNSOLD</td>\n",
       "      <td>55.633803</td>\n",
       "    </tr>\n",
       "  </tbody>\n",
       "</table>\n",
       "</div>"
      ],
      "text/plain": [
       "     status  base price (in lacs)\n",
       "0  RETAINED              0.000000\n",
       "1      SOLD             62.375000\n",
       "2    UNSOLD             55.633803"
      ]
     },
     "execution_count": 94,
     "metadata": {},
     "output_type": "execute_result"
    }
   ],
   "source": [
    "avg_base_price = df.groupby('status')['base price (in lacs)'].mean().reset_index()\n",
    "avg_base_price"
   ]
  },
  {
   "cell_type": "markdown",
   "id": "0b042354-43b8-4295-980a-51f3971ab641",
   "metadata": {},
   "source": [
    "# team-wise player acquisitions"
   ]
  },
  {
   "cell_type": "markdown",
   "id": "5212de08-007a-49ff-94d3-0c613570889e",
   "metadata": {},
   "source": [
    "## most spending franchise in auction"
   ]
  },
  {
   "cell_type": "code",
   "execution_count": 98,
   "id": "204f0aa7-4411-43f5-9b3c-5ed7a78b1445",
   "metadata": {},
   "outputs": [
    {
     "data": {
      "text/plain": [
       "franchise\n",
       "MI         9420.0\n",
       "CSK        9350.0\n",
       "RCB        9325.0\n",
       "RR         9165.0\n",
       "LSG        9065.0\n",
       "GT         9055.0\n",
       "SRH        8845.0\n",
       "DC         8685.0\n",
       "PBKS       8280.0\n",
       "KKR        6410.0\n",
       "Unknown       0.0\n",
       "Name: final price (in lacs), dtype: float64"
      ]
     },
     "execution_count": 98,
     "metadata": {},
     "output_type": "execute_result"
    }
   ],
   "source": [
    "most = df.groupby('franchise')['final price (in lacs)'].sum()\n",
    "most = most.sort_values(ascending=False)\n",
    "most"
   ]
  },
  {
   "cell_type": "markdown",
   "id": "c13130d3-8424-4e5d-952d-2af5d1bedd27",
   "metadata": {},
   "source": [
    "## average spending of each franchise on player in auction"
   ]
  },
  {
   "cell_type": "code",
   "execution_count": 101,
   "id": "6fd5ff5d-cf8c-46ae-a3b6-3d523226eb5d",
   "metadata": {},
   "outputs": [
    {
     "data": {
      "text/plain": [
       "franchise\n",
       "MI         409.565217\n",
       "PBKS       376.363636\n",
       "CSK        374.000000\n",
       "RCB        373.000000\n",
       "RR         366.600000\n",
       "LSG        362.600000\n",
       "GT         362.200000\n",
       "DC         361.875000\n",
       "SRH        353.800000\n",
       "KKR        337.368421\n",
       "Unknown      0.000000\n",
       "Name: final price (in lacs), dtype: float64"
      ]
     },
     "execution_count": 101,
     "metadata": {},
     "output_type": "execute_result"
    }
   ],
   "source": [
    "avg = df.groupby('franchise')['final price (in lacs)'].mean()\n",
    "avg = avg.sort_values(ascending=False)\n",
    "avg"
   ]
  },
  {
   "cell_type": "markdown",
   "id": "45264efb-583c-42d8-8c55-c1beffd3200e",
   "metadata": {},
   "source": [
    "## all-rounder player count per franchise"
   ]
  },
  {
   "cell_type": "code",
   "execution_count": 104,
   "id": "dfb85d69-0ec3-41c1-b380-233ebdd8a044",
   "metadata": {},
   "outputs": [
    {
     "data": {
      "text/html": [
       "<div>\n",
       "<style scoped>\n",
       "    .dataframe tbody tr th:only-of-type {\n",
       "        vertical-align: middle;\n",
       "    }\n",
       "\n",
       "    .dataframe tbody tr th {\n",
       "        vertical-align: top;\n",
       "    }\n",
       "\n",
       "    .dataframe thead th {\n",
       "        text-align: right;\n",
       "    }\n",
       "</style>\n",
       "<table border=\"1\" class=\"dataframe\">\n",
       "  <thead>\n",
       "    <tr style=\"text-align: right;\">\n",
       "      <th></th>\n",
       "      <th>franchise</th>\n",
       "      <th>count</th>\n",
       "    </tr>\n",
       "  </thead>\n",
       "  <tbody>\n",
       "    <tr>\n",
       "      <th>10</th>\n",
       "      <td>Unknown</td>\n",
       "      <td>26</td>\n",
       "    </tr>\n",
       "    <tr>\n",
       "      <th>4</th>\n",
       "      <td>LSG</td>\n",
       "      <td>12</td>\n",
       "    </tr>\n",
       "    <tr>\n",
       "      <th>0</th>\n",
       "      <td>CSK</td>\n",
       "      <td>10</td>\n",
       "    </tr>\n",
       "    <tr>\n",
       "      <th>6</th>\n",
       "      <td>PBKS</td>\n",
       "      <td>8</td>\n",
       "    </tr>\n",
       "    <tr>\n",
       "      <th>7</th>\n",
       "      <td>RCB</td>\n",
       "      <td>8</td>\n",
       "    </tr>\n",
       "    <tr>\n",
       "      <th>5</th>\n",
       "      <td>MI</td>\n",
       "      <td>8</td>\n",
       "    </tr>\n",
       "    <tr>\n",
       "      <th>3</th>\n",
       "      <td>KKR</td>\n",
       "      <td>8</td>\n",
       "    </tr>\n",
       "    <tr>\n",
       "      <th>9</th>\n",
       "      <td>SRH</td>\n",
       "      <td>8</td>\n",
       "    </tr>\n",
       "    <tr>\n",
       "      <th>1</th>\n",
       "      <td>DC</td>\n",
       "      <td>5</td>\n",
       "    </tr>\n",
       "    <tr>\n",
       "      <th>2</th>\n",
       "      <td>GT</td>\n",
       "      <td>5</td>\n",
       "    </tr>\n",
       "    <tr>\n",
       "      <th>8</th>\n",
       "      <td>RR</td>\n",
       "      <td>5</td>\n",
       "    </tr>\n",
       "  </tbody>\n",
       "</table>\n",
       "</div>"
      ],
      "text/plain": [
       "   franchise  count\n",
       "10   Unknown     26\n",
       "4        LSG     12\n",
       "0        CSK     10\n",
       "6       PBKS      8\n",
       "7        RCB      8\n",
       "5         MI      8\n",
       "3        KKR      8\n",
       "9        SRH      8\n",
       "1         DC      5\n",
       "2         GT      5\n",
       "8         RR      5"
      ]
     },
     "execution_count": 104,
     "metadata": {},
     "output_type": "execute_result"
    }
   ],
   "source": [
    "all_rounders = df[df['player style'] == \"Allrounder\"]\n",
    "all_rounder_count = all_rounders.groupby('franchise').size().reset_index(name='count')\n",
    "all_rounder_count = all_rounder_count.sort_values(by='count', ascending=False)\n",
    "all_rounder_count"
   ]
  },
  {
   "cell_type": "markdown",
   "id": "ad6a852a-121a-408e-90dd-9ab62902bb6e",
   "metadata": {},
   "source": [
    "# nationality impact on auction results"
   ]
  },
  {
   "cell_type": "markdown",
   "id": "371d8d04-eddb-4802-bd51-f7dd8a41c259",
   "metadata": {},
   "source": [
    "## count occurences of each status within each nationality"
   ]
  },
  {
   "cell_type": "code",
   "execution_count": 107,
   "id": "c9bb7918-57ef-4857-a78b-8e9ac054ee8a",
   "metadata": {},
   "outputs": [
    {
     "data": {
      "text/html": [
       "<div>\n",
       "<style scoped>\n",
       "    .dataframe tbody tr th:only-of-type {\n",
       "        vertical-align: middle;\n",
       "    }\n",
       "\n",
       "    .dataframe tbody tr th {\n",
       "        vertical-align: top;\n",
       "    }\n",
       "\n",
       "    .dataframe thead th {\n",
       "        text-align: right;\n",
       "    }\n",
       "</style>\n",
       "<table border=\"1\" class=\"dataframe\">\n",
       "  <thead>\n",
       "    <tr style=\"text-align: right;\">\n",
       "      <th></th>\n",
       "      <th>nationality</th>\n",
       "      <th>status</th>\n",
       "      <th>count</th>\n",
       "    </tr>\n",
       "  </thead>\n",
       "  <tbody>\n",
       "    <tr>\n",
       "      <th>12</th>\n",
       "      <td>India</td>\n",
       "      <td>RETAINED</td>\n",
       "      <td>111</td>\n",
       "    </tr>\n",
       "    <tr>\n",
       "      <th>13</th>\n",
       "      <td>India</td>\n",
       "      <td>SOLD</td>\n",
       "      <td>51</td>\n",
       "    </tr>\n",
       "    <tr>\n",
       "      <th>14</th>\n",
       "      <td>India</td>\n",
       "      <td>UNSOLD</td>\n",
       "      <td>39</td>\n",
       "    </tr>\n",
       "    <tr>\n",
       "      <th>23</th>\n",
       "      <td>South Africa</td>\n",
       "      <td>RETAINED</td>\n",
       "      <td>11</td>\n",
       "    </tr>\n",
       "    <tr>\n",
       "      <th>11</th>\n",
       "      <td>England</td>\n",
       "      <td>UNSOLD</td>\n",
       "      <td>9</td>\n",
       "    </tr>\n",
       "    <tr>\n",
       "      <th>10</th>\n",
       "      <td>England</td>\n",
       "      <td>SOLD</td>\n",
       "      <td>8</td>\n",
       "    </tr>\n",
       "    <tr>\n",
       "      <th>28</th>\n",
       "      <td>West Indies</td>\n",
       "      <td>RETAINED</td>\n",
       "      <td>7</td>\n",
       "    </tr>\n",
       "    <tr>\n",
       "      <th>9</th>\n",
       "      <td>England</td>\n",
       "      <td>RETAINED</td>\n",
       "      <td>7</td>\n",
       "    </tr>\n",
       "    <tr>\n",
       "      <th>3</th>\n",
       "      <td>Australia</td>\n",
       "      <td>RETAINED</td>\n",
       "      <td>7</td>\n",
       "    </tr>\n",
       "    <tr>\n",
       "      <th>19</th>\n",
       "      <td>New Zealand</td>\n",
       "      <td>RETAINED</td>\n",
       "      <td>6</td>\n",
       "    </tr>\n",
       "    <tr>\n",
       "      <th>29</th>\n",
       "      <td>West Indies</td>\n",
       "      <td>SOLD</td>\n",
       "      <td>5</td>\n",
       "    </tr>\n",
       "    <tr>\n",
       "      <th>27</th>\n",
       "      <td>Sri Lanka</td>\n",
       "      <td>UNSOLD</td>\n",
       "      <td>4</td>\n",
       "    </tr>\n",
       "    <tr>\n",
       "      <th>25</th>\n",
       "      <td>South Africa</td>\n",
       "      <td>UNSOLD</td>\n",
       "      <td>4</td>\n",
       "    </tr>\n",
       "    <tr>\n",
       "      <th>26</th>\n",
       "      <td>Sri Lanka</td>\n",
       "      <td>RETAINED</td>\n",
       "      <td>4</td>\n",
       "    </tr>\n",
       "    <tr>\n",
       "      <th>24</th>\n",
       "      <td>South Africa</td>\n",
       "      <td>SOLD</td>\n",
       "      <td>4</td>\n",
       "    </tr>\n",
       "    <tr>\n",
       "      <th>4</th>\n",
       "      <td>Australia</td>\n",
       "      <td>SOLD</td>\n",
       "      <td>4</td>\n",
       "    </tr>\n",
       "    <tr>\n",
       "      <th>0</th>\n",
       "      <td>Afghanistan</td>\n",
       "      <td>RETAINED</td>\n",
       "      <td>3</td>\n",
       "    </tr>\n",
       "    <tr>\n",
       "      <th>21</th>\n",
       "      <td>New Zealand</td>\n",
       "      <td>UNSOLD</td>\n",
       "      <td>3</td>\n",
       "    </tr>\n",
       "    <tr>\n",
       "      <th>5</th>\n",
       "      <td>Australia</td>\n",
       "      <td>UNSOLD</td>\n",
       "      <td>3</td>\n",
       "    </tr>\n",
       "    <tr>\n",
       "      <th>2</th>\n",
       "      <td>Afghanistan</td>\n",
       "      <td>UNSOLD</td>\n",
       "      <td>3</td>\n",
       "    </tr>\n",
       "    <tr>\n",
       "      <th>30</th>\n",
       "      <td>West Indies</td>\n",
       "      <td>UNSOLD</td>\n",
       "      <td>2</td>\n",
       "    </tr>\n",
       "    <tr>\n",
       "      <th>20</th>\n",
       "      <td>New Zealand</td>\n",
       "      <td>SOLD</td>\n",
       "      <td>2</td>\n",
       "    </tr>\n",
       "    <tr>\n",
       "      <th>7</th>\n",
       "      <td>Bangladesh</td>\n",
       "      <td>SOLD</td>\n",
       "      <td>2</td>\n",
       "    </tr>\n",
       "    <tr>\n",
       "      <th>1</th>\n",
       "      <td>Afghanistan</td>\n",
       "      <td>SOLD</td>\n",
       "      <td>1</td>\n",
       "    </tr>\n",
       "    <tr>\n",
       "      <th>8</th>\n",
       "      <td>Bangladesh</td>\n",
       "      <td>UNSOLD</td>\n",
       "      <td>1</td>\n",
       "    </tr>\n",
       "    <tr>\n",
       "      <th>16</th>\n",
       "      <td>Ireland</td>\n",
       "      <td>UNSOLD</td>\n",
       "      <td>1</td>\n",
       "    </tr>\n",
       "    <tr>\n",
       "      <th>15</th>\n",
       "      <td>Ireland</td>\n",
       "      <td>SOLD</td>\n",
       "      <td>1</td>\n",
       "    </tr>\n",
       "    <tr>\n",
       "      <th>6</th>\n",
       "      <td>Bangladesh</td>\n",
       "      <td>RETAINED</td>\n",
       "      <td>1</td>\n",
       "    </tr>\n",
       "    <tr>\n",
       "      <th>18</th>\n",
       "      <td>Netherlands</td>\n",
       "      <td>UNSOLD</td>\n",
       "      <td>1</td>\n",
       "    </tr>\n",
       "    <tr>\n",
       "      <th>22</th>\n",
       "      <td>Singapore</td>\n",
       "      <td>RETAINED</td>\n",
       "      <td>1</td>\n",
       "    </tr>\n",
       "    <tr>\n",
       "      <th>17</th>\n",
       "      <td>Namibia</td>\n",
       "      <td>SOLD</td>\n",
       "      <td>1</td>\n",
       "    </tr>\n",
       "    <tr>\n",
       "      <th>31</th>\n",
       "      <td>Zimbabwe</td>\n",
       "      <td>SOLD</td>\n",
       "      <td>1</td>\n",
       "    </tr>\n",
       "    <tr>\n",
       "      <th>32</th>\n",
       "      <td>Zimbabwe</td>\n",
       "      <td>UNSOLD</td>\n",
       "      <td>1</td>\n",
       "    </tr>\n",
       "  </tbody>\n",
       "</table>\n",
       "</div>"
      ],
      "text/plain": [
       "     nationality    status  count\n",
       "12         India  RETAINED    111\n",
       "13         India      SOLD     51\n",
       "14         India    UNSOLD     39\n",
       "23  South Africa  RETAINED     11\n",
       "11       England    UNSOLD      9\n",
       "10       England      SOLD      8\n",
       "28   West Indies  RETAINED      7\n",
       "9        England  RETAINED      7\n",
       "3      Australia  RETAINED      7\n",
       "19   New Zealand  RETAINED      6\n",
       "29   West Indies      SOLD      5\n",
       "27     Sri Lanka    UNSOLD      4\n",
       "25  South Africa    UNSOLD      4\n",
       "26     Sri Lanka  RETAINED      4\n",
       "24  South Africa      SOLD      4\n",
       "4      Australia      SOLD      4\n",
       "0    Afghanistan  RETAINED      3\n",
       "21   New Zealand    UNSOLD      3\n",
       "5      Australia    UNSOLD      3\n",
       "2    Afghanistan    UNSOLD      3\n",
       "30   West Indies    UNSOLD      2\n",
       "20   New Zealand      SOLD      2\n",
       "7     Bangladesh      SOLD      2\n",
       "1    Afghanistan      SOLD      1\n",
       "8     Bangladesh    UNSOLD      1\n",
       "16       Ireland    UNSOLD      1\n",
       "15       Ireland      SOLD      1\n",
       "6     Bangladesh  RETAINED      1\n",
       "18   Netherlands    UNSOLD      1\n",
       "22     Singapore  RETAINED      1\n",
       "17       Namibia      SOLD      1\n",
       "31      Zimbabwe      SOLD      1\n",
       "32      Zimbabwe    UNSOLD      1"
      ]
     },
     "execution_count": 107,
     "metadata": {},
     "output_type": "execute_result"
    }
   ],
   "source": [
    "nationality_status = df.groupby(['nationality', 'status']).size().reset_index(name='count')\n",
    "nationality_status = nationality_status.sort_values(by='count',ascending=False)\n",
    "nationality_status"
   ]
  },
  {
   "cell_type": "markdown",
   "id": "2c6d9235-a1dd-4c81-97d7-789d8fbc3b60",
   "metadata": {},
   "source": [
    "## highest average final price according to nationality"
   ]
  },
  {
   "cell_type": "code",
   "execution_count": 109,
   "id": "852bc4e8-8cdb-44d8-b73f-4d1c7766c1f6",
   "metadata": {},
   "outputs": [
    {
     "data": {
      "text/html": [
       "<div>\n",
       "<style scoped>\n",
       "    .dataframe tbody tr th:only-of-type {\n",
       "        vertical-align: middle;\n",
       "    }\n",
       "\n",
       "    .dataframe tbody tr th {\n",
       "        vertical-align: top;\n",
       "    }\n",
       "\n",
       "    .dataframe thead th {\n",
       "        text-align: right;\n",
       "    }\n",
       "</style>\n",
       "<table border=\"1\" class=\"dataframe\">\n",
       "  <thead>\n",
       "    <tr style=\"text-align: right;\">\n",
       "      <th></th>\n",
       "      <th>nationality</th>\n",
       "      <th>final price (in lacs)</th>\n",
       "    </tr>\n",
       "  </thead>\n",
       "  <tbody>\n",
       "    <tr>\n",
       "      <th>9</th>\n",
       "      <td>Singapore</td>\n",
       "      <td>825.000000</td>\n",
       "    </tr>\n",
       "    <tr>\n",
       "      <th>3</th>\n",
       "      <td>England</td>\n",
       "      <td>466.041667</td>\n",
       "    </tr>\n",
       "    <tr>\n",
       "      <th>1</th>\n",
       "      <td>Australia</td>\n",
       "      <td>465.000000</td>\n",
       "    </tr>\n",
       "    <tr>\n",
       "      <th>12</th>\n",
       "      <td>West Indies</td>\n",
       "      <td>405.000000</td>\n",
       "    </tr>\n",
       "    <tr>\n",
       "      <th>10</th>\n",
       "      <td>South Africa</td>\n",
       "      <td>284.473684</td>\n",
       "    </tr>\n",
       "    <tr>\n",
       "      <th>4</th>\n",
       "      <td>India</td>\n",
       "      <td>260.696517</td>\n",
       "    </tr>\n",
       "    <tr>\n",
       "      <th>0</th>\n",
       "      <td>Afghanistan</td>\n",
       "      <td>232.857143</td>\n",
       "    </tr>\n",
       "    <tr>\n",
       "      <th>5</th>\n",
       "      <td>Ireland</td>\n",
       "      <td>220.000000</td>\n",
       "    </tr>\n",
       "    <tr>\n",
       "      <th>8</th>\n",
       "      <td>New Zealand</td>\n",
       "      <td>160.909091</td>\n",
       "    </tr>\n",
       "    <tr>\n",
       "      <th>11</th>\n",
       "      <td>Sri Lanka</td>\n",
       "      <td>151.875000</td>\n",
       "    </tr>\n",
       "    <tr>\n",
       "      <th>2</th>\n",
       "      <td>Bangladesh</td>\n",
       "      <td>100.000000</td>\n",
       "    </tr>\n",
       "    <tr>\n",
       "      <th>6</th>\n",
       "      <td>Namibia</td>\n",
       "      <td>100.000000</td>\n",
       "    </tr>\n",
       "    <tr>\n",
       "      <th>13</th>\n",
       "      <td>Zimbabwe</td>\n",
       "      <td>25.000000</td>\n",
       "    </tr>\n",
       "    <tr>\n",
       "      <th>7</th>\n",
       "      <td>Netherlands</td>\n",
       "      <td>0.000000</td>\n",
       "    </tr>\n",
       "  </tbody>\n",
       "</table>\n",
       "</div>"
      ],
      "text/plain": [
       "     nationality  final price (in lacs)\n",
       "9      Singapore             825.000000\n",
       "3        England             466.041667\n",
       "1      Australia             465.000000\n",
       "12   West Indies             405.000000\n",
       "10  South Africa             284.473684\n",
       "4          India             260.696517\n",
       "0    Afghanistan             232.857143\n",
       "5        Ireland             220.000000\n",
       "8    New Zealand             160.909091\n",
       "11     Sri Lanka             151.875000\n",
       "2     Bangladesh             100.000000\n",
       "6        Namibia             100.000000\n",
       "13      Zimbabwe              25.000000\n",
       "7    Netherlands               0.000000"
      ]
     },
     "execution_count": 109,
     "metadata": {},
     "output_type": "execute_result"
    }
   ],
   "source": [
    "avg_final_price4 = df.groupby('nationality')['final price (in lacs)'].mean().reset_index()\n",
    "avg_final_price4 = avg_final_price4.sort_values(by='final price (in lacs)', ascending=False)\n",
    "avg_final_price4"
   ]
  },
  {
   "cell_type": "markdown",
   "id": "87ec31b3-c7d1-4d13-9d36-fb6610541aeb",
   "metadata": {},
   "source": [
    "# price variation from base price to final price"
   ]
  },
  {
   "cell_type": "markdown",
   "id": "db652e9e-ea61-4da7-98e0-c5d465524090",
   "metadata": {},
   "source": [
    "## average percentage increase of sold players"
   ]
  },
  {
   "cell_type": "code",
   "execution_count": 113,
   "id": "12ca95d1-4eb8-4b3c-b079-e519edec0113",
   "metadata": {},
   "outputs": [
    {
     "data": {
      "text/plain": [
       "np.float64(182.5)"
      ]
     },
     "execution_count": 113,
     "metadata": {},
     "output_type": "execute_result"
    }
   ],
   "source": [
    "sold_players = df[df['status'] == 'SOLD'].copy()\n",
    "sold_players['price_increase'] = sold_players['final price (in lacs)'] - sold_players['base price (in lacs)']\n",
    "sold_players['percentage_increase'] = (sold_players['price_increase'] / sold_players['base price (in lacs)']) * 100\n",
    "average_percentage_increase = sold_players['percentage_increase'].mean()\n",
    "average_percentage_increase"
   ]
  },
  {
   "cell_type": "markdown",
   "id": "cf42582a-b5b7-46ff-9ea6-cd3bae157256",
   "metadata": {},
   "source": [
    "# concluding"
   ]
  },
  {
   "cell_type": "markdown",
   "id": "e7b24aef-1793-4a08-a5f8-5010fae8100b",
   "metadata": {},
   "source": [
    "## player with highest price jump"
   ]
  },
  {
   "cell_type": "code",
   "execution_count": 116,
   "id": "cf69539f-ef01-42ab-a2b6-0eaf3f72cbce",
   "metadata": {},
   "outputs": [
    {
     "name": "stdout",
     "output_type": "stream",
     "text": [
      "Average percentage increase in final price for sold players: 182.50%\n",
      "\n",
      "Player with the highest price jump:\n"
     ]
    },
    {
     "data": {
      "text/plain": [
       "name                     Sam Curran\n",
       "base price (in lacs)          200.0\n",
       "final price (in lacs)        1850.0\n",
       "price_increase               1650.0\n",
       "percentage_increase           825.0\n",
       "Name: 150, dtype: object"
      ]
     },
     "execution_count": 116,
     "metadata": {},
     "output_type": "execute_result"
    }
   ],
   "source": [
    "highest_jump_player = sold_players.loc[sold_players['price_increase'].idxmax()]\n",
    "print(f\"Average percentage increase in final price for sold players: {average_percentage_increase:.2f}%\")\n",
    "print(\"\\nPlayer with the highest price jump:\")\n",
    "highest_jump_player[['name', 'base price (in lacs)', 'final price (in lacs)', 'price_increase', 'percentage_increase']]"
   ]
  },
  {
   "cell_type": "code",
   "execution_count": null,
   "id": "28a6668a-c9b3-4e40-8b21-b8cec0d769b5",
   "metadata": {},
   "outputs": [],
   "source": []
  }
 ],
 "metadata": {
  "kernelspec": {
   "display_name": "Python 3 (ipykernel)",
   "language": "python",
   "name": "python3"
  },
  "language_info": {
   "codemirror_mode": {
    "name": "ipython",
    "version": 3
   },
   "file_extension": ".py",
   "mimetype": "text/x-python",
   "name": "python",
   "nbconvert_exporter": "python",
   "pygments_lexer": "ipython3",
   "version": "3.12.3"
  }
 },
 "nbformat": 4,
 "nbformat_minor": 5
}
